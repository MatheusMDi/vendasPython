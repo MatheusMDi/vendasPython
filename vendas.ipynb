{
  "nbformat": 4,
  "nbformat_minor": 0,
  "metadata": {
    "colab": {
      "name": "vendas.ipynb",
      "provenance": [],
      "authorship_tag": "ABX9TyPk257UpLVgCkEVhs1A88CM",
      "include_colab_link": true
    },
    "kernelspec": {
      "name": "python3",
      "display_name": "Python 3"
    },
    "language_info": {
      "name": "python"
    }
  },
  "cells": [
    {
      "cell_type": "markdown",
      "metadata": {
        "id": "view-in-github",
        "colab_type": "text"
      },
      "source": [
        "<a href=\"https://colab.research.google.com/github/MatheusMDi/vendasPython/blob/main/vendas.ipynb\" target=\"_parent\"><img src=\"https://colab.research.google.com/assets/colab-badge.svg\" alt=\"Open In Colab\"/></a>"
      ]
    },
    {
      "cell_type": "code",
      "metadata": {
        "id": "pduP5epRKKeL"
      },
      "source": [
        "import pandas as pd\n",
        "import matplotlib.pyplot as plt\n",
        "\n",
        "url_dados = 'https://github.com/MatheusMDi/vendasPython/blob/main/dados/Base%20Devolu%C3%A7%C3%B5es.xlsx?raw=true'\n",
        "url_dados2 = 'https://github.com/MatheusMDi/vendasPython/blob/main/dados/Base%20Vendas.xlsx?raw=true'\n",
        "\n",
        "baseD = pd.read_excel(url_dados)\n",
        "baseV = pd.read_excel(url_dados2)"
      ],
      "execution_count": 6,
      "outputs": []
    },
    {
      "cell_type": "code",
      "metadata": {
        "colab": {
          "base_uri": "https://localhost:8080/"
        },
        "id": "YQFcYbvKSu32",
        "outputId": "219b6f10-cbad-4f28-d156-f2bb5f0955b9"
      },
      "source": [
        "baseV['Produto'].unique()"
      ],
      "execution_count": 8,
      "outputs": [
        {
          "output_type": "execute_result",
          "data": {
            "text/plain": [
              "array(['Televisão', 'Câmera', 'iPhone', 'Android', 'SmartWatch', 'Tablet',\n",
              "       'Notebook'], dtype=object)"
            ]
          },
          "metadata": {
            "tags": []
          },
          "execution_count": 8
        }
      ]
    },
    {
      "cell_type": "code",
      "metadata": {
        "id": "XWljRJ-rT2Pf"
      },
      "source": [
        "baseV['Data'] =  pd.to_datetime(baseV['Data'], format='%m/%d/%Y')"
      ],
      "execution_count": null,
      "outputs": []
    },
    {
      "cell_type": "code",
      "metadata": {
        "id": "7TY9WV34l-VF"
      },
      "source": [
        "baseV['Data'] = baseV['Data'].dt.strftime('%d/%m/%Y')\n",
        "baseV['mes'] = pd.DatetimeIndex(baseV['Data']).month"
      ],
      "execution_count": null,
      "outputs": []
    },
    {
      "cell_type": "code",
      "metadata": {
        "colab": {
          "base_uri": "https://localhost:8080/",
          "height": 402
        },
        "id": "UsTjpRv5oMB_",
        "outputId": "bae9ab37-ac4c-41d2-aa4a-5b3549711454"
      },
      "source": [
        "baseV"
      ],
      "execution_count": 46,
      "outputs": [
        {
          "output_type": "execute_result",
          "data": {
            "text/html": [
              "<div>\n",
              "<style scoped>\n",
              "    .dataframe tbody tr th:only-of-type {\n",
              "        vertical-align: middle;\n",
              "    }\n",
              "\n",
              "    .dataframe tbody tr th {\n",
              "        vertical-align: top;\n",
              "    }\n",
              "\n",
              "    .dataframe thead th {\n",
              "        text-align: right;\n",
              "    }\n",
              "</style>\n",
              "<table border=\"1\" class=\"dataframe\">\n",
              "  <thead>\n",
              "    <tr style=\"text-align: right;\">\n",
              "      <th></th>\n",
              "      <th>SKU</th>\n",
              "      <th>Produto</th>\n",
              "      <th>Quantidade Vendida</th>\n",
              "      <th>Primeiro Nome</th>\n",
              "      <th>Sobrenome</th>\n",
              "      <th>Data</th>\n",
              "      <th>Loja</th>\n",
              "      <th>Preco Unitario</th>\n",
              "      <th>mes</th>\n",
              "    </tr>\n",
              "  </thead>\n",
              "  <tbody>\n",
              "    <tr>\n",
              "      <th>0</th>\n",
              "      <td>HL4379</td>\n",
              "      <td>Televisão</td>\n",
              "      <td>5</td>\n",
              "      <td>Gabriel</td>\n",
              "      <td>Thoni</td>\n",
              "      <td>30/06/2018</td>\n",
              "      <td>Curitiba</td>\n",
              "      <td>2500</td>\n",
              "      <td>6</td>\n",
              "    </tr>\n",
              "    <tr>\n",
              "      <th>1</th>\n",
              "      <td>HL4379</td>\n",
              "      <td>Televisão</td>\n",
              "      <td>3</td>\n",
              "      <td>Renan</td>\n",
              "      <td>Nascimento</td>\n",
              "      <td>14/09/2018</td>\n",
              "      <td>Recife</td>\n",
              "      <td>2500</td>\n",
              "      <td>9</td>\n",
              "    </tr>\n",
              "    <tr>\n",
              "      <th>2</th>\n",
              "      <td>HL1148</td>\n",
              "      <td>Câmera</td>\n",
              "      <td>2</td>\n",
              "      <td>Camila</td>\n",
              "      <td>Sobral</td>\n",
              "      <td>21/10/2018</td>\n",
              "      <td>Fortaleza</td>\n",
              "      <td>2100</td>\n",
              "      <td>10</td>\n",
              "    </tr>\n",
              "    <tr>\n",
              "      <th>3</th>\n",
              "      <td>HL1918</td>\n",
              "      <td>iPhone</td>\n",
              "      <td>3</td>\n",
              "      <td>Clara</td>\n",
              "      <td>Bruno</td>\n",
              "      <td>08/07/2018</td>\n",
              "      <td>Fortaleza</td>\n",
              "      <td>5300</td>\n",
              "      <td>8</td>\n",
              "    </tr>\n",
              "    <tr>\n",
              "      <th>4</th>\n",
              "      <td>HL9962</td>\n",
              "      <td>Android</td>\n",
              "      <td>4</td>\n",
              "      <td>Eduardo</td>\n",
              "      <td>Pacheco</td>\n",
              "      <td>19/12/2018</td>\n",
              "      <td>Fortaleza</td>\n",
              "      <td>3400</td>\n",
              "      <td>12</td>\n",
              "    </tr>\n",
              "    <tr>\n",
              "      <th>...</th>\n",
              "      <td>...</td>\n",
              "      <td>...</td>\n",
              "      <td>...</td>\n",
              "      <td>...</td>\n",
              "      <td>...</td>\n",
              "      <td>...</td>\n",
              "      <td>...</td>\n",
              "      <td>...</td>\n",
              "      <td>...</td>\n",
              "    </tr>\n",
              "    <tr>\n",
              "      <th>9994</th>\n",
              "      <td>HL4379</td>\n",
              "      <td>Televisão</td>\n",
              "      <td>2</td>\n",
              "      <td>Caio</td>\n",
              "      <td>Ferreira</td>\n",
              "      <td>18/05/2018</td>\n",
              "      <td>Fortaleza</td>\n",
              "      <td>2500</td>\n",
              "      <td>5</td>\n",
              "    </tr>\n",
              "    <tr>\n",
              "      <th>9995</th>\n",
              "      <td>HL1148</td>\n",
              "      <td>Câmera</td>\n",
              "      <td>5</td>\n",
              "      <td>Kim</td>\n",
              "      <td>Ferreira</td>\n",
              "      <td>06/03/2018</td>\n",
              "      <td>Fortaleza</td>\n",
              "      <td>2100</td>\n",
              "      <td>6</td>\n",
              "    </tr>\n",
              "    <tr>\n",
              "      <th>9996</th>\n",
              "      <td>HL4379</td>\n",
              "      <td>Televisão</td>\n",
              "      <td>5</td>\n",
              "      <td>Caio</td>\n",
              "      <td>Moraes</td>\n",
              "      <td>22/01/2018</td>\n",
              "      <td>São Paulo</td>\n",
              "      <td>2500</td>\n",
              "      <td>1</td>\n",
              "    </tr>\n",
              "    <tr>\n",
              "      <th>9997</th>\n",
              "      <td>HL1918</td>\n",
              "      <td>iPhone</td>\n",
              "      <td>4</td>\n",
              "      <td>Norman</td>\n",
              "      <td>Jimbo</td>\n",
              "      <td>13/06/2018</td>\n",
              "      <td>Porto Alegre</td>\n",
              "      <td>5300</td>\n",
              "      <td>6</td>\n",
              "    </tr>\n",
              "    <tr>\n",
              "      <th>9998</th>\n",
              "      <td>HL7348</td>\n",
              "      <td>SmartWatch</td>\n",
              "      <td>1</td>\n",
              "      <td>Vinícius</td>\n",
              "      <td>Antunes</td>\n",
              "      <td>10/12/2018</td>\n",
              "      <td>Curitiba</td>\n",
              "      <td>1400</td>\n",
              "      <td>10</td>\n",
              "    </tr>\n",
              "  </tbody>\n",
              "</table>\n",
              "<p>9999 rows × 9 columns</p>\n",
              "</div>"
            ],
            "text/plain": [
              "         SKU     Produto  Quantidade Vendida  ...          Loja Preco Unitario mes\n",
              "0     HL4379   Televisão                   5  ...      Curitiba           2500   6\n",
              "1     HL4379   Televisão                   3  ...        Recife           2500   9\n",
              "2     HL1148      Câmera                   2  ...     Fortaleza           2100  10\n",
              "3     HL1918      iPhone                   3  ...     Fortaleza           5300   8\n",
              "4     HL9962     Android                   4  ...     Fortaleza           3400  12\n",
              "...      ...         ...                 ...  ...           ...            ...  ..\n",
              "9994  HL4379   Televisão                   2  ...     Fortaleza           2500   5\n",
              "9995  HL1148      Câmera                   5  ...     Fortaleza           2100   6\n",
              "9996  HL4379   Televisão                   5  ...     São Paulo           2500   1\n",
              "9997  HL1918      iPhone                   4  ...  Porto Alegre           5300   6\n",
              "9998  HL7348  SmartWatch                   1  ...      Curitiba           1400  10\n",
              "\n",
              "[9999 rows x 9 columns]"
            ]
          },
          "metadata": {
            "tags": []
          },
          "execution_count": 46
        }
      ]
    },
    {
      "cell_type": "code",
      "metadata": {
        "id": "xImw0g9apFcK"
      },
      "source": [
        ""
      ],
      "execution_count": null,
      "outputs": []
    }
  ]
}